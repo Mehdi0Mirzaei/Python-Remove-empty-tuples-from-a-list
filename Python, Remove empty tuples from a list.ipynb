{
 "cells": [
  {
   "cell_type": "code",
   "execution_count": 20,
   "id": "d215bc47",
   "metadata": {},
   "outputs": [],
   "source": [
    "def remove_tuple(lst):\n",
    "    lst1=[]\n",
    "    for item in lst:\n",
    "        if not item == ():\n",
    "            lst1.append(item)\n",
    "    return lst1"
   ]
  },
  {
   "cell_type": "code",
   "execution_count": 21,
   "id": "f12b1915",
   "metadata": {},
   "outputs": [],
   "source": [
    "lst=[1,2,3,(),7,(1,2,3),[]]"
   ]
  },
  {
   "cell_type": "code",
   "execution_count": 22,
   "id": "0405725d",
   "metadata": {},
   "outputs": [
    {
     "data": {
      "text/plain": [
       "[1, 2, 3, 7, (1, 2, 3), []]"
      ]
     },
     "execution_count": 22,
     "metadata": {},
     "output_type": "execute_result"
    }
   ],
   "source": [
    "remove_tuple(lst)"
   ]
  },
  {
   "cell_type": "code",
   "execution_count": null,
   "id": "22ca0921",
   "metadata": {},
   "outputs": [],
   "source": []
  }
 ],
 "metadata": {
  "kernelspec": {
   "display_name": "Python 3 (ipykernel)",
   "language": "python",
   "name": "python3"
  },
  "language_info": {
   "codemirror_mode": {
    "name": "ipython",
    "version": 3
   },
   "file_extension": ".py",
   "mimetype": "text/x-python",
   "name": "python",
   "nbconvert_exporter": "python",
   "pygments_lexer": "ipython3",
   "version": "3.9.17"
  }
 },
 "nbformat": 4,
 "nbformat_minor": 5
}
